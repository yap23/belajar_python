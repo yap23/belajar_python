{
 "cells": [
  {
   "cell_type": "markdown",
   "source": [
    "# Belajar Matplotlib"
   ],
   "metadata": {}
  },
  {
   "cell_type": "markdown",
   "source": [
    "## Pengenalan Matplotlib\r\n",
    "### -> Matplotlib adalah salah satu module dalam pemrograman python yang dapat digunakan untuk memvisualisasikan data dalam bentuk graphs\r\n",
    "### -> Dengan Matplotlib, graphs akan digambarkan pada suatu figure, yang di dalamnya dapat terdiri dari satu atau lebih axes"
   ],
   "metadata": {}
  },
  {
   "cell_type": "code",
   "execution_count": 1,
   "source": [
    "# Import modules\r\n",
    "%matplotlib inline"
   ],
   "outputs": [],
   "metadata": {}
  },
  {
   "cell_type": "code",
   "execution_count": 2,
   "source": [
    "import matplotlib.pyplot as plt\r\n",
    "import numpy as np"
   ],
   "outputs": [],
   "metadata": {}
  },
  {
   "cell_type": "code",
   "execution_count": null,
   "source": [],
   "outputs": [],
   "metadata": {}
  }
 ],
 "metadata": {
  "orig_nbformat": 4,
  "language_info": {
   "name": "python",
   "version": "3.9.2",
   "mimetype": "text/x-python",
   "codemirror_mode": {
    "name": "ipython",
    "version": 3
   },
   "pygments_lexer": "ipython3",
   "nbconvert_exporter": "python",
   "file_extension": ".py"
  },
  "kernelspec": {
   "name": "python3",
   "display_name": "Python 3.9.2 64-bit"
  },
  "interpreter": {
   "hash": "edda21d6d9da42417ed3f272d9c64ca5311b98759a2103aadce570452eaef685"
  }
 },
 "nbformat": 4,
 "nbformat_minor": 2
}