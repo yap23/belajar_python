{
 "cells": [
  {
   "cell_type": "markdown",
   "source": [
    "# Python\r\n",
    "## belajar python dari dasar"
   ],
   "metadata": {}
  },
  {
   "cell_type": "code",
   "execution_count": 2,
   "source": [
    "import pandas as pd\n",
    "import numpy as np"
   ],
   "outputs": [],
   "metadata": {}
  },
  {
   "cell_type": "code",
   "execution_count": 3,
   "metadata": {},
   "outputs": [
    {
     "output_type": "stream",
     "name": "stdout",
     "text": [
      "Rata-rata data1:\n105.0\nRata-rata data2:\n73.0\n"
     ]
    }
   ],
   "source": [
    "# Dua buah data yang tersimpan dalam tipe list\n",
    "data1 = [70, 70, 70, 100, 100, 100, 120, 120, 150, 150]\n",
    "data2 = [50, 60, 60, 50, 70, 70, 100, 80, 100, 90]\n",
    "# Definisikan fungsi hitng_rata_rata\n",
    "def hitung_rata_rata(data):\n",
    "    jumlah = 0\n",
    "    for item in data:\n",
    "        jumlah += item\n",
    "    rata_rata = jumlah / len(data)\n",
    "    return rata_rata\n",
    "# Hitung nilai rata-rata dari kedua data yang dimiliki\n",
    "print('Rata-rata data1:')\n",
    "print(hitung_rata_rata(data1))\n",
    "print('Rata-rata data2:')\n",
    "print(hitung_rata_rata(data2))"
   ]
  },
  {
   "cell_type": "code",
   "execution_count": 4,
   "metadata": {},
   "outputs": [
    {
     "output_type": "stream",
     "name": "stdout",
     "text": [
      "Standar deviasi data1:\n28.722813232690143\nStandar deviasi data2:\n17.916472867168917\n"
     ]
    }
   ],
   "source": [
    "# Dua buah data yang tersimpan dalam tipe list\n",
    "data1 = [70, 70, 70, 100, 100, 100, 120, 120, 150, 150]\n",
    "data2 = [50, 60, 60, 50, 70, 70, 100, 80, 100, 90]\n",
    "# Fungsi rata-rata data\n",
    "def hitung_rata_rata(data):\n",
    "    jumlah = 0\n",
    "    for item in data:\n",
    "        jumlah += item\n",
    "    rata_rata = jumlah/len(data)\n",
    "    return rata_rata\n",
    "# Definisikan fungsi hitung_standar_deviasi\n",
    "def hitung_standar_deviasi(data):\n",
    "    rata_rata_data = hitung_rata_rata(data)\n",
    "    varians = 0\n",
    "    for item in data:\n",
    "        varians += (item - rata_rata_data) ** 2\n",
    "    varians /= len(data)\n",
    "    standar_deviasi = varians ** (1/2)\n",
    "    return standar_deviasi\n",
    "# Hitung nilai standar deviasi dari kedua data yang dimiliki\n",
    "print('Standar deviasi data1:')\n",
    "print(hitung_standar_deviasi(data1))\n",
    "print('Standar deviasi data2:')\n",
    "print(hitung_standar_deviasi(data2))"
   ]
  },
  {
   "cell_type": "code",
   "execution_count": 5,
   "metadata": {},
   "outputs": [
    {
     "output_type": "stream",
     "name": "stdout",
     "text": [
      "Rata-rata luas_tanah:\n105.0\nStandar deviasi luas_tanah:\n14.93311056335886\n\nRata-rata luas_bangunan:\n73.0\nStandar deviasi luas_bangunan:\n6.025948374480153\n\nRata-rata jarak:\n34.0\nStandar deviasi jarak:\n6.24005184770928\n\nRata-rata harga:\n1155.0\nStandar deviasi harga:\n587.0594351517378\n\n"
     ]
    }
   ],
   "source": [
    "# Data properti\n",
    "tabel_properti = {\n",
    "'luas_tanah': [70, 70, 70, 100, 100, 100, 120, 120, 150, 150],\n",
    "'luas_bangunan': [50, 60, 60, 50, 70, 70, 100, 80, 100, 90],\n",
    "'jarak': [15, 30, 55, 30, 25, 50, 20, 50, 50, 15],\n",
    "'harga': [500, 400, 300, 700, 1000, 650, 2000, 1200, 1800, 3000]\n",
    "}\n",
    "# Fungsi rata-rata data\n",
    "def hitung_rata_rata(data):\n",
    "    jumlah = 0\n",
    "    for item in data:\n",
    "        jumlah += item\n",
    "    rata_rata = jumlah/len(data)\n",
    "    return rata_rata\n",
    "# Fungsi hitung_standar_deviasi\n",
    "def hitung_standar_deviasi(data):\n",
    "    rata_rata_data = hitung_rata_rata(data)\n",
    "    varians = 0\n",
    "    for item in data:\n",
    "        varians += (item - rata_rata_data) ** 2\n",
    "        varians /= len(data)\n",
    "    standar_deviasi = varians ** (1/2)\n",
    "    return standar_deviasi\n",
    "# Definisikan fungsi untuk menghitung rata-rata dan standar deviasi\n",
    "# setiap kolom pada tabel_properti yang diberikan oleh key dict.\n",
    "def deskripsi_properti(tabel):\n",
    "    for key in tabel.keys():\n",
    "        print('Rata-rata ' + key + ':')\n",
    "        print(hitung_rata_rata(tabel[key])) \n",
    "        print('Standar deviasi ' + key + ':')\n",
    "        print(hitung_standar_deviasi(tabel[key]))\n",
    "        print('')\n",
    "# Panggil fungsi deskripsi_properti untuk menghitung rata-rata \n",
    "# dan standar deviasi setiap kolom pada tabel_properti\n",
    "deskripsi_properti(tabel_properti)"
   ]
  },
  {
   "cell_type": "code",
   "execution_count": null,
   "metadata": {},
   "outputs": [],
   "source": []
  }
 ],
 "metadata": {
  "orig_nbformat": 4,
  "language_info": {
   "name": "python",
   "version": "3.9.2"
  },
  "kernelspec": {
   "name": "python3",
   "display_name": "Python 3.9.2 64-bit"
  },
  "interpreter": {
   "hash": "edda21d6d9da42417ed3f272d9c64ca5311b98759a2103aadce570452eaef685"
  }
 },
 "nbformat": 4,
 "nbformat_minor": 2
}